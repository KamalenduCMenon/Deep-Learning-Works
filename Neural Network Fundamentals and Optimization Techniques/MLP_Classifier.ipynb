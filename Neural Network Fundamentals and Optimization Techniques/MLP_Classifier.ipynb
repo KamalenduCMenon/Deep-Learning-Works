{
  "nbformat": 4,
  "nbformat_minor": 0,
  "metadata": {
    "colab": {
      "provenance": []
    },
    "kernelspec": {
      "name": "python3",
      "display_name": "Python 3"
    },
    "language_info": {
      "name": "python"
    }
  },
  "cells": [
    {
      "cell_type": "markdown",
      "source": [
        "**MLP Classifier**"
      ],
      "metadata": {
        "id": "semkeIfns8r6"
      }
    },
    {
      "cell_type": "code",
      "source": [
        "import tensorflow as tf\n",
        "from tensorflow import keras"
      ],
      "metadata": {
        "id": "3Py3xfz2tJ0B"
      },
      "execution_count": null,
      "outputs": []
    },
    {
      "cell_type": "code",
      "source": [
        "# Load the MNIST dataset\n",
        "mnist = keras.datasets.mnist\n",
        "(x_train, y_train), (x_test, y_test) = mnist.load_data()\n",
        "\n",
        "# Normalize the pixels.\n",
        "x_train, x_test = x_train / 255.0, x_test / 255.0"
      ],
      "metadata": {
        "id": "Dvi33uIEs_DR"
      },
      "execution_count": null,
      "outputs": []
    },
    {
      "cell_type": "markdown",
      "source": [
        "**MLP without Dropout/Batch Normalization**"
      ],
      "metadata": {
        "id": "FOoC0FM5tUZy"
      }
    },
    {
      "cell_type": "code",
      "source": [
        "#Build a MLP Model\n",
        "model = keras.Sequential([\n",
        "    keras.layers.Flatten(input_shape=(28, 28)),   # Flatten the 28x28 input images.\n",
        "    keras.layers.Dense(128, activation='relu'),   # Fully connected layer with 128 units and ReLU activation.\n",
        "    keras.layers.Dense(64, activation='relu'),    # Fully connected layer with 64 units and ReLU activation.\n",
        "    keras.layers.Dense(10, activation='softmax')  # Softmax activation with 10 output units.\n",
        "])\n",
        "\n",
        "#Compile the model\n",
        "model.compile(optimizer='adam',\n",
        "                              loss='sparse_categorical_crossentropy',\n",
        "                              metrics=['accuracy'])\n",
        "\n",
        "#Train the model\n",
        "model.fit(x_train, y_train, epochs=5, validation_data=(x_test, y_test))\n",
        "\n",
        "#Evaluate the model\n",
        "test_loss, test_acc = model.evaluate(x_test, y_test)\n",
        "print(f\"Model- Test accuracy: {test_acc}\")\n"
      ],
      "metadata": {
        "colab": {
          "base_uri": "https://localhost:8080/"
        },
        "id": "x33RhIlHtYR3",
        "outputId": "ec3569b9-ce86-4eda-fc30-daa4132dbdeb"
      },
      "execution_count": null,
      "outputs": [
        {
          "output_type": "stream",
          "name": "stdout",
          "text": [
            "Epoch 1/5\n",
            "1875/1875 [==============================] - 8s 4ms/step - loss: 0.2364 - accuracy: 0.9309 - val_loss: 0.1221 - val_accuracy: 0.9634\n",
            "Epoch 2/5\n",
            "1875/1875 [==============================] - 8s 4ms/step - loss: 0.0988 - accuracy: 0.9704 - val_loss: 0.1018 - val_accuracy: 0.9691\n",
            "Epoch 3/5\n",
            "1875/1875 [==============================] - 8s 4ms/step - loss: 0.0706 - accuracy: 0.9776 - val_loss: 0.0928 - val_accuracy: 0.9707\n",
            "Epoch 4/5\n",
            "1875/1875 [==============================] - 7s 4ms/step - loss: 0.0552 - accuracy: 0.9825 - val_loss: 0.0859 - val_accuracy: 0.9753\n",
            "Epoch 5/5\n",
            "1875/1875 [==============================] - 8s 4ms/step - loss: 0.0426 - accuracy: 0.9863 - val_loss: 0.0804 - val_accuracy: 0.9767\n",
            "313/313 [==============================] - 1s 2ms/step - loss: 0.0804 - accuracy: 0.9767\n",
            "Model- Test accuracy: 0.9767000079154968\n"
          ]
        }
      ]
    },
    {
      "cell_type": "markdown",
      "source": [
        "**MLP with Dropout**"
      ],
      "metadata": {
        "id": "0qN43ncltooG"
      }
    },
    {
      "cell_type": "code",
      "source": [
        "#Build a MLP Model with dropout\n",
        "model_with_dropout = keras.Sequential([\n",
        "    keras.layers.Flatten(input_shape=(28, 28)), # Flatten the 28x28 input images.\n",
        "    keras.layers.Dense(128, activation='relu'), # Fully connected layer with 128 units and ReLU activation.\n",
        "    keras.layers.Dropout(0.5),                  # Dropout layer with a dropout rate of 0.5\n",
        "    keras.layers.Dense(64, activation='relu'),  # Fully connected layer with 64 units and ReLU activation.\n",
        "    keras.layers.Dropout(0.5),                  # Dropout layer with a dropout rate of 0.5\n",
        "    keras.layers.Dense(10, activation='softmax')# Softmax activation with 10 output units.\n",
        "])\n",
        "\n",
        "#Compile the model\n",
        "model_with_dropout.compile(optimizer='adam',\n",
        "                          loss='sparse_categorical_crossentropy',\n",
        "                          metrics=['accuracy'])\n",
        "\n",
        "#Train the model\n",
        "model_with_dropout.fit(x_train, y_train, epochs=5)\n",
        "\n",
        "#Evaluate the model\n",
        "test_loss, test_acc = model_with_dropout.evaluate(x_test, y_test)\n",
        "print(f\"Model with dropout - Test accuracy: {test_acc}\")\n"
      ],
      "metadata": {
        "colab": {
          "base_uri": "https://localhost:8080/"
        },
        "id": "q-EGONyxtqge",
        "outputId": "376e57f7-d1e3-4a7b-8184-008ddd6d8b0a"
      },
      "execution_count": null,
      "outputs": [
        {
          "output_type": "stream",
          "name": "stdout",
          "text": [
            "Epoch 1/5\n",
            "1875/1875 [==============================] - 9s 4ms/step - loss: 0.5855 - accuracy: 0.8220\n",
            "Epoch 2/5\n",
            "1875/1875 [==============================] - 7s 4ms/step - loss: 0.3211 - accuracy: 0.9099\n",
            "Epoch 3/5\n",
            "1875/1875 [==============================] - 7s 4ms/step - loss: 0.2685 - accuracy: 0.9255\n",
            "Epoch 4/5\n",
            "1875/1875 [==============================] - 7s 3ms/step - loss: 0.2430 - accuracy: 0.9315\n",
            "Epoch 5/5\n",
            "1875/1875 [==============================] - 8s 4ms/step - loss: 0.2231 - accuracy: 0.9371\n",
            "313/313 [==============================] - 1s 2ms/step - loss: 0.1212 - accuracy: 0.9651\n",
            "Model with dropout - Test accuracy: 0.9650999903678894\n"
          ]
        }
      ]
    },
    {
      "cell_type": "markdown",
      "source": [
        "**MLP with Batch Normalization**"
      ],
      "metadata": {
        "id": "Qcg3x-IAtzCj"
      }
    },
    {
      "cell_type": "code",
      "source": [
        "#Build a MLP Model with batch normalization\n",
        "model_with_batch_norm = keras.Sequential([\n",
        "    keras.layers.Flatten(input_shape=(28, 28)),   # Flatten the 28x28 input images\n",
        "    keras.layers.Dense(128, activation='relu'),   # Fully connected layer with 128 units and ReLU activation.\n",
        "    keras.layers.BatchNormalization(),            # Batch normalization layer\n",
        "    keras.layers.Dense(64, activation='relu'),    # Fully connected layer with 64 units and ReLU activation.\n",
        "    keras.layers.BatchNormalization(),            # Batch normalization layer\n",
        "    keras.layers.Dense(10, activation='softmax')  # Softmax activation with 10 output units.\n",
        "])\n",
        "\n",
        "#Compile the model\n",
        "model_with_batch_norm.compile(optimizer='adam',\n",
        "                              loss='sparse_categorical_crossentropy',\n",
        "                              metrics=['accuracy'])\n",
        "\n",
        "#Train the model\n",
        "model_with_batch_norm.fit(x_train, y_train, epochs=5)\n",
        "\n",
        "#Evaluate the model\n",
        "test_loss, test_acc = model_with_batch_norm.evaluate(x_test, y_test)\n",
        "print(f\"Model with batch normalization - Test accuracy: {test_acc}\")"
      ],
      "metadata": {
        "colab": {
          "base_uri": "https://localhost:8080/"
        },
        "id": "vsOFG5XSt10V",
        "outputId": "eb07475c-e96d-474d-d61b-92b069b1cc04"
      },
      "execution_count": null,
      "outputs": [
        {
          "output_type": "stream",
          "name": "stdout",
          "text": [
            "Epoch 1/5\n",
            "1875/1875 [==============================] - 11s 5ms/step - loss: 0.2472 - accuracy: 0.9266\n",
            "Epoch 2/5\n",
            "1875/1875 [==============================] - 10s 5ms/step - loss: 0.1250 - accuracy: 0.9617\n",
            "Epoch 3/5\n",
            "1875/1875 [==============================] - 10s 5ms/step - loss: 0.0965 - accuracy: 0.9695\n",
            "Epoch 4/5\n",
            "1875/1875 [==============================] - 10s 6ms/step - loss: 0.0800 - accuracy: 0.9745\n",
            "Epoch 5/5\n",
            "1875/1875 [==============================] - 10s 5ms/step - loss: 0.0668 - accuracy: 0.9786\n",
            "313/313 [==============================] - 1s 2ms/step - loss: 0.0822 - accuracy: 0.9759\n",
            "Model with batch normalization - Test accuracy: 0.9758999943733215\n"
          ]
        }
      ]
    }
  ]
}