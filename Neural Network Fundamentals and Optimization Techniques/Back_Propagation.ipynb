{
  "nbformat": 4,
  "nbformat_minor": 0,
  "metadata": {
    "colab": {
      "provenance": []
    },
    "kernelspec": {
      "name": "python3",
      "display_name": "Python 3"
    },
    "language_info": {
      "name": "python"
    }
  },
  "cells": [
    {
      "cell_type": "code",
      "execution_count": 102,
      "metadata": {
        "id": "rc0raCCb58We"
      },
      "outputs": [],
      "source": [
        "import random\n",
        "import math"
      ]
    },
    {
      "cell_type": "code",
      "source": [
        "# Define the sigmoid function\n",
        "def sigmoid(x):\n",
        "    return 1 / (1 + math.exp(-x))"
      ],
      "metadata": {
        "id": "_9Eq_RA95-Xf"
      },
      "execution_count": 103,
      "outputs": []
    },
    {
      "cell_type": "code",
      "source": [
        "K = 3"
      ],
      "metadata": {
        "id": "IGggmJO96Gvo"
      },
      "execution_count": 104,
      "outputs": []
    },
    {
      "cell_type": "code",
      "source": [
        "# Initialize weights A, B, and C with random values\n",
        "A = [[random.random() for _ in range(K)] for _ in range(K)]\n",
        "B = [[random.random() for _ in range(K)] for _ in range(K)]\n",
        "C = [[random.random() for _ in range(K)] for _ in range(K)]\n",
        "print(\"A:\", A)\n",
        "print(\"B:\", B)\n",
        "print(\"C:\", C)"
      ],
      "metadata": {
        "colab": {
          "base_uri": "https://localhost:8080/"
        },
        "id": "-Ici0f1k6BbM",
        "outputId": "51ae0217-9985-4e9b-9e11-9a1b2150b552"
      },
      "execution_count": 105,
      "outputs": [
        {
          "output_type": "stream",
          "name": "stdout",
          "text": [
            "A: [[0.8398498040460971, 0.3041809126703864, 0.423400014612931], [0.75829482384759, 0.6198137716104942, 0.266505019491165], [0.48248312349313216, 0.5801489941487755, 0.9794073063196495]]\n",
            "B: [[0.32947973954781484, 0.06653397243383918, 0.5466334362443342], [0.260879676811679, 0.9464011022017689, 0.25929303196883], [0.6602652197959822, 0.8015934833696401, 0.3451858452102099]]\n",
            "C: [[0.8710006119005334, 0.6971948493063583, 0.3888061955552716], [0.014833275024055959, 0.2638647492326325, 0.7988204444745216], [0.848068322108391, 0.8879014149258482, 0.17142299209922907]]\n"
          ]
        }
      ]
    },
    {
      "cell_type": "code",
      "source": [
        "# Define the input vector x\n",
        "x = [random.random() for _ in range(K)]\n",
        "print(\"x:\",x)"
      ],
      "metadata": {
        "colab": {
          "base_uri": "https://localhost:8080/"
        },
        "id": "ySUZ_BbJ6TVm",
        "outputId": "8cc3a74d-adfc-4293-e216-e1b1bb641d67"
      },
      "execution_count": 106,
      "outputs": [
        {
          "output_type": "stream",
          "name": "stdout",
          "text": [
            "x: [0.49018457619705547, 0.5881632037617703, 0.6883674131063857]\n"
          ]
        }
      ]
    },
    {
      "cell_type": "code",
      "source": [
        "# Forward pass\n",
        "y = [sum(A[i][j] * x[j] for j in range(K)) for i in range(K)]\n",
        "u = [sigmoid(y_i) for y_i in y]\n",
        "v = [sum(B[i][j] * x[j] for j in range(K)) for i in range(K)]\n",
        "z = [u_i + v_i for u_i, v_i in zip(u, v)]\n",
        "w = [sum(C[i][j] * z[j] for j in range(K)) for i in range(K)]\n",
        "L = sum(w_i ** 2 for w_i in w)"
      ],
      "metadata": {
        "id": "Z467mfZ46bPX"
      },
      "execution_count": 107,
      "outputs": []
    },
    {
      "cell_type": "code",
      "source": [
        "# Backward pass\n",
        "# Compute gradients ∂L/∂A, ∂L/∂B, and ∂L/∂C\n",
        "dL_dw = [2 * w_i for w_i in w]\n",
        "dL_dz = [sum(C[j][i] * dL_dw[j] for j in range(K)) for i in range(K)]\n",
        "dL_du = dL_dz\n",
        "dL_dv = dL_dz\n",
        "dL_dy = [dL_du[i] * u[i] * (1 - u[i]) for i in range(K)]\n",
        "dL_dA = [[dL_dy[i] * x[j] for j in range(K)] for i in range(K)]\n",
        "dL_dB = [[dL_dv[i] * x[j] for j in range(K)] for i in range(K)]\n",
        "dL_dC = [[dL_dw[i] * z[j] for j in range(K)] for i in range(K)]"
      ],
      "metadata": {
        "id": "uG44FDUE6fds"
      },
      "execution_count": 110,
      "outputs": []
    },
    {
      "cell_type": "code",
      "source": [
        "# Print the gradients\n",
        "print(\"Gradients ∂L/∂A:\")\n",
        "for row in dL_dA:\n",
        "    print(row)\n",
        "\n",
        "print(\"Gradients ∂L/∂B:\")\n",
        "for row in dL_dB:\n",
        "    print(row)\n",
        "\n",
        "print(\"Gradients ∂L/∂C:\")\n",
        "for row in dL_dC:\n",
        "    print(row)"
      ],
      "metadata": {
        "colab": {
          "base_uri": "https://localhost:8080/"
        },
        "id": "UNQwqZub6ukH",
        "outputId": "573225b0-0abf-4dbb-a20c-df1d8e386580"
      },
      "execution_count": 111,
      "outputs": [
        {
          "output_type": "stream",
          "name": "stdout",
          "text": [
            "Gradients ∂L/∂A:\n",
            "[1.0044650439867402, 1.2052386122007435, 1.4105727463913171]\n",
            "[1.0030341434791714, 1.2035217017395343, 1.4085633292683846]\n",
            "[0.5288232865647174, 0.6345250616875721, 0.7426278496707178]\n",
            "Gradients ∂L/∂B:\n",
            "[4.85133414423115, 5.821024102649029, 6.8127405413029365]\n",
            "[4.922085409559319, 5.905917208034879, 6.912096718247142]\n",
            "[3.058188541355181, 3.6694626015077043, 4.294621734809499]\n",
            "Gradients ∂L/∂C:\n",
            "[7.506121133163198, 9.223535575378872, 10.58180747689005]\n",
            "[4.832538234252468, 5.938231948599319, 6.8127050326484495]\n",
            "[7.192631683253187, 8.838319157677333, 10.139863502614492]\n"
          ]
        }
      ]
    },
    {
      "cell_type": "code",
      "source": [
        "import torch\n",
        "import numpy as np"
      ],
      "metadata": {
        "id": "3zh645Os65lX"
      },
      "execution_count": 112,
      "outputs": []
    },
    {
      "cell_type": "code",
      "source": [
        "# Define A, B, and C as tensors\n",
        "A_torch = torch.tensor(A, requires_grad=True)\n",
        "B_torch = torch.tensor(B, requires_grad=True)\n",
        "C_torch = torch.tensor(C, requires_grad=True)"
      ],
      "metadata": {
        "id": "qtKuq2Ae6_RX"
      },
      "execution_count": 113,
      "outputs": []
    },
    {
      "cell_type": "code",
      "source": [
        "# Define x as a tensor\n",
        "x_torch = torch.tensor(x, requires_grad=False)"
      ],
      "metadata": {
        "id": "OiN12Odu7hPN"
      },
      "execution_count": 114,
      "outputs": []
    },
    {
      "cell_type": "code",
      "source": [
        "y_torch = torch.matmul(A_torch, x_torch)\n",
        "u_torch = torch.sigmoid(y_torch)\n",
        "v_torch = torch.matmul(B_torch, x_torch)\n",
        "z_torch = u_torch + v_torch\n",
        "w_torch = torch.matmul(C_torch, z_torch)\n",
        "L_torch = torch.norm(w_torch)**2"
      ],
      "metadata": {
        "id": "rDXDDulj7o1w"
      },
      "execution_count": 115,
      "outputs": []
    },
    {
      "cell_type": "code",
      "source": [
        "# Compute gradients using automatic differentiation\n",
        "L_torch.backward()\n",
        "\n",
        "# Access the gradients\n",
        "dL_dA_torch = A_torch.grad\n",
        "dL_dB_torch = B_torch.grad\n",
        "dL_dC_torch = C_torch.grad"
      ],
      "metadata": {
        "id": "LZzrYjVX74_s"
      },
      "execution_count": 116,
      "outputs": []
    },
    {
      "cell_type": "code",
      "source": [
        "print(\"Gradients ∂L/∂A:\")\n",
        "print(dL_dA_torch)\n",
        "print(\"Gradients ∂L/∂B:\")\n",
        "print(dL_dB_torch)\n",
        "print(\"Gradients ∂L/∂C:\")\n",
        "print(dL_dC_torch)"
      ],
      "metadata": {
        "colab": {
          "base_uri": "https://localhost:8080/"
        },
        "id": "zBLLRNPd8EdR",
        "outputId": "4a165345-5833-4f0d-b608-cc38084044ce"
      },
      "execution_count": 117,
      "outputs": [
        {
          "output_type": "stream",
          "name": "stdout",
          "text": [
            "Gradients ∂L/∂A:\n",
            "tensor([[1.0045, 1.2052, 1.4106],\n",
            "        [1.0030, 1.2035, 1.4086],\n",
            "        [0.5288, 0.6345, 0.7426]])\n",
            "Gradients ∂L/∂B:\n",
            "tensor([[4.8513, 5.8210, 6.8127],\n",
            "        [4.9221, 5.9059, 6.9121],\n",
            "        [3.0582, 3.6695, 4.2946]])\n",
            "Gradients ∂L/∂C:\n",
            "tensor([[ 7.5061,  9.2235, 10.5818],\n",
            "        [ 4.8325,  5.9382,  6.8127],\n",
            "        [ 7.1926,  8.8383, 10.1399]])\n"
          ]
        }
      ]
    },
    {
      "cell_type": "code",
      "source": [
        "# Compare with manually computed gradients (grad_A, grad_B, grad_C)\n",
        "# You can use np.allclose() to check if the gradients are approximately equal.\n",
        "is_equal_A = np.allclose(dL_dA, dL_dA_torch.numpy())\n",
        "is_equal_B = np.allclose(dL_dB, dL_dB_torch.numpy())\n",
        "is_equal_C = np.allclose(dL_dC, dL_dC_torch.numpy())\n",
        "print(\"Gradients (A):\", is_equal_A)\n",
        "print(\"Gradients (B):\", is_equal_B)\n",
        "print(\"Gradients (C):\", is_equal_C)\n"
      ],
      "metadata": {
        "colab": {
          "base_uri": "https://localhost:8080/"
        },
        "id": "5tAB-TtL8VVa",
        "outputId": "ac8b8fe5-6cdc-4cac-9b70-5a18b14cdf4f"
      },
      "execution_count": 118,
      "outputs": [
        {
          "output_type": "stream",
          "name": "stdout",
          "text": [
            "Gradients (A): True\n",
            "Gradients (B): True\n",
            "Gradients (C): True\n"
          ]
        }
      ]
    },
    {
      "cell_type": "code",
      "source": [
        "# Update weights using gradient descent\n",
        "learning_rate = 0.01\n",
        "A = [[A[i][j] - learning_rate * dL_dA[i][j] for j in range(K)] for i in range(K)]\n",
        "B = [[B[i][j] - learning_rate * dL_dB[i][j] for j in range(K)] for i in range(K)]\n",
        "C = [[C[i][j] - learning_rate * dL_dC[i][j] for j in range(K)] for i in range(K)]\n",
        "\n",
        "print(\"Updated A:\")\n",
        "for row in A:\n",
        "    print(row)\n",
        "\n",
        "print(\"Updated B:\")\n",
        "for row in B:\n",
        "    print(row)\n",
        "\n",
        "print(\"Updated C:\")\n",
        "for row in C:\n",
        "    print(row)"
      ],
      "metadata": {
        "colab": {
          "base_uri": "https://localhost:8080/"
        },
        "id": "vlugGA4Y7Moe",
        "outputId": "9454ba3a-ba09-4859-839d-c8f1f2985a7c"
      },
      "execution_count": 119,
      "outputs": [
        {
          "output_type": "stream",
          "name": "stdout",
          "text": [
            "Updated A:\n",
            "[0.8298051536062298, 0.29212852654837895, 0.4092942871490178]\n",
            "[0.7482644824127982, 0.6077785545930989, 0.25241938619848114]\n",
            "[0.477194890627485, 0.5738037435318998, 0.9719810278229423]\n",
            "Updated B:\n",
            "[0.28096639810550333, 0.008323731407348892, 0.4785060308313049]\n",
            "[0.21165882271608583, 0.88734193012142, 0.19017206478635862]\n",
            "[0.6296833343824304, 0.7648988573545631, 0.3022396278621149]\n",
            "Updated C:\n",
            "[0.7959394005689013, 0.6049594935525696, 0.28298812078637114]\n",
            "[-0.03349210731846872, 0.20448242974663927, 0.7306933941480371]\n",
            "[0.7761420052758592, 0.7995182233490749, 0.07002435707308415]\n"
          ]
        }
      ]
    }
  ]
}