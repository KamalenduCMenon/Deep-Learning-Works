{
  "nbformat": 4,
  "nbformat_minor": 0,
  "metadata": {
    "colab": {
      "provenance": []
    },
    "kernelspec": {
      "name": "python3",
      "display_name": "Python 3"
    },
    "language_info": {
      "name": "python"
    }
  },
  "cells": [
    {
      "cell_type": "markdown",
      "source": [
        "**CNN Clasifier**"
      ],
      "metadata": {
        "id": "vpWpQ7X-uVNZ"
      }
    },
    {
      "cell_type": "code",
      "source": [
        "import tensorflow as tf\n",
        "from tensorflow import keras"
      ],
      "metadata": {
        "id": "sXp2iM19uWdq"
      },
      "execution_count": null,
      "outputs": []
    },
    {
      "cell_type": "code",
      "source": [
        "# Load the MNIST dataset.\n",
        "(x_train, y_train), (x_test, y_test) = tf.keras.datasets.mnist.load_data()\n",
        "\n",
        "# Normalize pixel values.\n",
        "x_train, x_test = x_train / 255.0, x_test / 255.0"
      ],
      "metadata": {
        "colab": {
          "base_uri": "https://localhost:8080/"
        },
        "id": "4K3bWGN0uWjn",
        "outputId": "a07a42bf-b528-4ca0-cde2-ae6199abc1a7"
      },
      "execution_count": null,
      "outputs": [
        {
          "output_type": "stream",
          "name": "stdout",
          "text": [
            "Downloading data from https://storage.googleapis.com/tensorflow/tf-keras-datasets/mnist.npz\n",
            "11490434/11490434 [==============================] - 1s 0us/step\n"
          ]
        }
      ]
    },
    {
      "cell_type": "markdown",
      "source": [
        "**CNN without Dropout/Batch Normalization**"
      ],
      "metadata": {
        "id": "jiuvSdJzup0v"
      }
    },
    {
      "cell_type": "code",
      "source": [
        "#Build a CNN model\n",
        "model = keras.Sequential([\n",
        "    keras.layers.Conv2D(32, (3, 3), activation='relu', input_shape=(28, 28, 1)),  #Convolutional layer with 32 filters,size 3x3, input 28x28 images.\n",
        "    keras.layers.MaxPooling2D((2, 2)),                                            #2D max-pooling layer.\n",
        "    keras. layers.Conv2D(64, (3, 3), activation='relu'),                          #Convolutional layer with 64 filters,size 3x3 and ReLU activation.\n",
        "    keras. layers.MaxPooling2D((2, 2)),                                           #2D max-pooling layer.\n",
        "    keras.layers.Conv2D(64, (3, 3), activation='relu'),                           #Convolutional layer with 64 filters,size 3x3 and ReLU activation.\n",
        "    keras.layers.Flatten(),                                                       #Flatten the layer.\n",
        "    keras.layers.Dense(64, activation='relu'),                                    #Fully connected layer with 64 units and ReLU activation.\n",
        "    keras.layers.Dense(10)                                                        #Fully connected layer with 10 units.\n",
        "])\n",
        "\n",
        "#Compile the model\n",
        "model.compile(optimizer='adam',\n",
        "              loss=tf.keras.losses.SparseCategoricalCrossentropy(from_logits=True),\n",
        "              metrics=['accuracy'])\n",
        "\n",
        "#Train the model\n",
        "model.fit(x_train, y_train, epochs=5, validation_data=(x_test, y_test))\n",
        "\n",
        "#Evaluate the model\n",
        "test_loss, test_acc = model.evaluate(x_test, y_test, verbose=2)\n",
        "print(f\"Test accuracy: {test_acc}\")"
      ],
      "metadata": {
        "colab": {
          "base_uri": "https://localhost:8080/"
        },
        "id": "CjqZ72bDuu0Q",
        "outputId": "9300306e-fc0c-4868-9305-1b2d9f50e86f"
      },
      "execution_count": null,
      "outputs": [
        {
          "output_type": "stream",
          "name": "stdout",
          "text": [
            "Epoch 1/5\n",
            "1875/1875 [==============================] - 62s 32ms/step - loss: 0.1446 - accuracy: 0.9552 - val_loss: 0.0413 - val_accuracy: 0.9859\n",
            "Epoch 2/5\n",
            "1875/1875 [==============================] - 57s 31ms/step - loss: 0.0463 - accuracy: 0.9859 - val_loss: 0.0331 - val_accuracy: 0.9890\n",
            "Epoch 3/5\n",
            "1875/1875 [==============================] - 55s 29ms/step - loss: 0.0327 - accuracy: 0.9898 - val_loss: 0.0554 - val_accuracy: 0.9834\n",
            "Epoch 4/5\n",
            "1875/1875 [==============================] - 54s 29ms/step - loss: 0.0250 - accuracy: 0.9919 - val_loss: 0.0357 - val_accuracy: 0.9897\n",
            "Epoch 5/5\n",
            "1875/1875 [==============================] - 62s 33ms/step - loss: 0.0205 - accuracy: 0.9933 - val_loss: 0.0268 - val_accuracy: 0.9915\n",
            "313/313 - 3s - loss: 0.0268 - accuracy: 0.9915 - 3s/epoch - 11ms/step\n",
            "Test accuracy: 0.9915000200271606\n"
          ]
        }
      ]
    },
    {
      "cell_type": "markdown",
      "source": [
        "**CNN with Dropout**"
      ],
      "metadata": {
        "id": "KacZOw1pvAv-"
      }
    },
    {
      "cell_type": "code",
      "source": [
        "#Build a CNN model with dropout\n",
        "model_with_dropout = keras.Sequential([\n",
        "    keras.layers.Conv2D(32, (3, 3), activation='relu', input_shape=(28, 28, 1)), #Convolutional layer with 32 filters,size 3x3, input 28x28 images.\n",
        "    keras.layers.MaxPooling2D((2, 2)),                                           #2D max-pooling layer.\n",
        "    keras.layers.Dropout(0.5),                                                   #Dropout layer with a dropout rate of 0.5\n",
        "    keras.layers.Conv2D(64, (3, 3), activation='relu'),                          #Convolutional layer with 32 filters,size 3x3,and ReLU activation.\n",
        "    keras.layers.MaxPooling2D((2, 2)),                                           #2D max-pooling layer.\n",
        "    keras.layers.Dropout(0.5),                                                   #Dropout layer with a dropout rate of 0.5\n",
        "    keras.layers.Conv2D(64, (3, 3), activation='relu'),                          #Convolutional layer with 64 filters,size 3x3,and ReLU activation.\n",
        "    keras.layers.Flatten(),                                                      #Flatten the layer\n",
        "    keras.layers.Dense(64, activation='relu'),                                   #Fully connected layer with 64 units and ReLU activation.\n",
        "    keras.layers.Dense(10)                                                       #Fully connected layer with 10 units.\n",
        "])\n",
        "\n",
        "#Compile the model\n",
        "model_with_dropout.compile(optimizer='adam',\n",
        "              loss=tf.keras.losses.SparseCategoricalCrossentropy(from_logits=True),\n",
        "              metrics=['accuracy'])\n",
        "\n",
        "#Train the model\n",
        "model_with_dropout.fit(x_train, y_train, epochs=5, validation_data=(x_test, y_test))\n",
        "\n",
        "#Evaluate the model\n",
        "test_loss, test_acc = model_with_dropout.evaluate(x_test, y_test, verbose=2)\n",
        "print(f\"Test accuracy with dropout: {test_acc}\")"
      ],
      "metadata": {
        "colab": {
          "base_uri": "https://localhost:8080/"
        },
        "id": "gcIJkljIvCnr",
        "outputId": "e2bf445b-5742-4a64-9865-673152c41faf"
      },
      "execution_count": null,
      "outputs": [
        {
          "output_type": "stream",
          "name": "stdout",
          "text": [
            "Epoch 1/5\n",
            "1875/1875 [==============================] - 63s 33ms/step - loss: 0.2562 - accuracy: 0.9176 - val_loss: 0.0596 - val_accuracy: 0.9809\n",
            "Epoch 2/5\n",
            "1875/1875 [==============================] - 61s 32ms/step - loss: 0.0905 - accuracy: 0.9715 - val_loss: 0.0399 - val_accuracy: 0.9869\n",
            "Epoch 3/5\n",
            "1875/1875 [==============================] - 60s 32ms/step - loss: 0.0714 - accuracy: 0.9779 - val_loss: 0.0353 - val_accuracy: 0.9885\n",
            "Epoch 4/5\n",
            "1875/1875 [==============================] - 60s 32ms/step - loss: 0.0588 - accuracy: 0.9813 - val_loss: 0.0268 - val_accuracy: 0.9906\n",
            "Epoch 5/5\n",
            "1875/1875 [==============================] - 59s 31ms/step - loss: 0.0557 - accuracy: 0.9827 - val_loss: 0.0290 - val_accuracy: 0.9897\n",
            "313/313 - 2s - loss: 0.0290 - accuracy: 0.9897 - 2s/epoch - 7ms/step\n",
            "Test accuracy with dropout: 0.9897000193595886\n"
          ]
        }
      ]
    },
    {
      "cell_type": "markdown",
      "source": [
        "**CNN with Batch Normalization**"
      ],
      "metadata": {
        "id": "v6K4SH4wvHaQ"
      }
    },
    {
      "cell_type": "code",
      "source": [
        "#Build a CNN model with batch normalization\n",
        "model_with_batch_norm = keras.Sequential([\n",
        "    keras.layers.Conv2D(32, (3, 3), activation='relu', input_shape=(28, 28, 1)),  #Convolutional layer with 32 filters,size 3x3, input 28x28 images.\n",
        "    keras.layers.MaxPooling2D((2, 2)),                                            #2D max-pooling layer.\n",
        "    keras.layers.Conv2D(64, (3, 3), activation='relu'),                           #Convolutional layer with 32 filters,size 3x3,and ReLU activation.\n",
        "    keras.layers.BatchNormalization(),                                            #Batch normalization layers\n",
        "    keras.layers.MaxPooling2D((2, 2)),                                            #2D max-pooling layer.\n",
        "    keras.layers.Conv2D(64, (3, 3), activation='relu'),                           #Convolutional layer with 32 filters,size 3x3,and ReLU activation.\n",
        "    keras.layers.BatchNormalization(),                                            #Batch normalization layers\n",
        "    keras.layers.Flatten(),                                                       #Flatten the layer\n",
        "    keras.layers.Dense(64, activation='relu'),                                    #Fully connected layer with 64 units and ReLU activation.\n",
        "    keras.layers.Dense(10)                                                        #Fully connected layer with 10 units.\n",
        "])\n",
        "\n",
        "#Compile the model\n",
        "model_with_batch_norm.compile(optimizer='adam',\n",
        "              loss=tf.keras.losses.SparseCategoricalCrossentropy(from_logits=True),\n",
        "              metrics=['accuracy'])\n",
        "\n",
        "#Train the model\n",
        "model_with_batch_norm.fit(x_train, y_train, epochs=5, validation_data=(x_test, y_test))\n",
        "\n",
        "#Evaluate the model\n",
        "test_loss, test_acc = model_with_batch_norm.evaluate(x_test, y_test, verbose=2)\n",
        "print(f\"Test accuracy with batch normalization: {test_acc}\")"
      ],
      "metadata": {
        "colab": {
          "base_uri": "https://localhost:8080/"
        },
        "id": "PKlOS992vJs9",
        "outputId": "250f6505-cf91-475d-95e9-ea59c336e261"
      },
      "execution_count": null,
      "outputs": [
        {
          "output_type": "stream",
          "name": "stdout",
          "text": [
            "Epoch 1/5\n",
            "1875/1875 [==============================] - 64s 33ms/step - loss: 0.0987 - accuracy: 0.9694 - val_loss: 0.0547 - val_accuracy: 0.9832\n",
            "Epoch 2/5\n",
            "1875/1875 [==============================] - 62s 33ms/step - loss: 0.0412 - accuracy: 0.9876 - val_loss: 0.0450 - val_accuracy: 0.9866\n",
            "Epoch 3/5\n",
            "1875/1875 [==============================] - 63s 33ms/step - loss: 0.0313 - accuracy: 0.9908 - val_loss: 0.0424 - val_accuracy: 0.9861\n",
            "Epoch 4/5\n",
            "1875/1875 [==============================] - 59s 32ms/step - loss: 0.0248 - accuracy: 0.9920 - val_loss: 0.0380 - val_accuracy: 0.9890\n",
            "Epoch 5/5\n",
            "1875/1875 [==============================] - 61s 33ms/step - loss: 0.0196 - accuracy: 0.9938 - val_loss: 0.0290 - val_accuracy: 0.9911\n",
            "313/313 - 2s - loss: 0.0290 - accuracy: 0.9911 - 2s/epoch - 8ms/step\n",
            "Test accuracy with batch normalization: 0.991100013256073\n"
          ]
        }
      ]
    }
  ]
}